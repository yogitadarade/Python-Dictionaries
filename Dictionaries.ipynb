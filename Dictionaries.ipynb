{
 "cells": [
  {
   "cell_type": "markdown",
   "id": "a95bd46f",
   "metadata": {},
   "source": [
    "## Dictionary - Tutorial \n",
    "                                     \n",
    "                                                                                \n",
    "Dictionary holds key:value pair. Key-Value is provided in the dictionary to make it more optimized. Dictionary items are ordered, changeable, and does not allow duplicates. With python 3.7 dictionaries are ordered, it means that the items have a defined order, and that order will not change."
   ]
  },
  {
   "cell_type": "markdown",
   "id": "33b2e7f3",
   "metadata": {},
   "source": [
    "### Create and Print a dictionary\n"
   ]
  },
  {
   "cell_type": "code",
   "execution_count": 5,
   "id": "2978196c",
   "metadata": {},
   "outputs": [
    {
     "name": "stdout",
     "output_type": "stream",
     "text": [
      "{'EmpName': 'Rita', 'Departement': 'Sales', 'Gender': 'Female'}\n"
     ]
    }
   ],
   "source": [
    "mydict = {'EmpName': 'Rita', 'Departement': 'Sales', 'Gender': 'Female'}\n",
    "print(mydict)"
   ]
  },
  {
   "cell_type": "markdown",
   "id": "6b4ea525",
   "metadata": {},
   "source": [
    "### Accessing Values in Dictionary\n",
    "Using square brackets of the get() method"
   ]
  },
  {
   "cell_type": "code",
   "execution_count": 6,
   "id": "9d97d842",
   "metadata": {},
   "outputs": [
    {
     "name": "stdout",
     "output_type": "stream",
     "text": [
      "dict['EmpName']:  Rita\n",
      "dict['Departement']:  Sales\n"
     ]
    }
   ],
   "source": [
    "print (\"dict['EmpName']: \", mydict['EmpName'])\n",
    "print (\"dict['Departement']: \", mydict['Departement'])"
   ]
  },
  {
   "cell_type": "code",
   "execution_count": 11,
   "id": "99fff704",
   "metadata": {},
   "outputs": [
    {
     "name": "stdout",
     "output_type": "stream",
     "text": [
      "dict['EmpName']: Rita\n"
     ]
    }
   ],
   "source": [
    "print(\"dict['EmpName']:\",mydict.get('EmpName'))"
   ]
  },
  {
   "cell_type": "markdown",
   "id": "0b90381e",
   "metadata": {},
   "source": [
    "### Get Keys\n",
    "The list of the keys is a view of the dictionary, i.e any changes done to the dictionary will be reflected in the keys list."
   ]
  },
  {
   "cell_type": "code",
   "execution_count": 13,
   "id": "d6e7055b",
   "metadata": {},
   "outputs": [
    {
     "name": "stdout",
     "output_type": "stream",
     "text": [
      "dict_keys(['EmpName', 'Departement', 'Gender'])\n"
     ]
    }
   ],
   "source": [
    "lstkey=mydict.keys()\n",
    "print(lstkey)"
   ]
  },
  {
   "cell_type": "markdown",
   "id": "a80410ca",
   "metadata": {},
   "source": [
    "### Updating Dictionary"
   ]
  },
  {
   "cell_type": "code",
   "execution_count": 15,
   "id": "0e25bcd0",
   "metadata": {},
   "outputs": [
    {
     "name": "stdout",
     "output_type": "stream",
     "text": [
      "dict_keys(['EmpName', 'Departement', 'Gender', 'Salary'])\n"
     ]
    }
   ],
   "source": [
    "mydict['Salary']=10000\n",
    "print(lstkey)"
   ]
  },
  {
   "cell_type": "code",
   "execution_count": 27,
   "id": "87b088f0",
   "metadata": {},
   "outputs": [
    {
     "name": "stdout",
     "output_type": "stream",
     "text": [
      "{'EmpName': 'Rita', 'Departement': 'Sales', 'Gender': 'Female', 'Salary': 20000}\n"
     ]
    }
   ],
   "source": [
    "mydict.update({'Salary':20000})\n",
    "print(mydict)"
   ]
  },
  {
   "cell_type": "markdown",
   "id": "ef8f0f77",
   "metadata": {},
   "source": [
    "### Find Length of Dictionary "
   ]
  },
  {
   "cell_type": "code",
   "execution_count": 16,
   "id": "055f2408",
   "metadata": {},
   "outputs": [
    {
     "data": {
      "text/plain": [
       "4"
      ]
     },
     "execution_count": 16,
     "metadata": {},
     "output_type": "execute_result"
    }
   ],
   "source": [
    "len(mydict)"
   ]
  },
  {
   "cell_type": "markdown",
   "id": "ae5f1c56",
   "metadata": {},
   "source": [
    "### Get Items\n",
    "The items() method will return each item in a dictionary, as tuples in a list"
   ]
  },
  {
   "cell_type": "code",
   "execution_count": 17,
   "id": "3769c599",
   "metadata": {},
   "outputs": [
    {
     "data": {
      "text/plain": [
       "dict_items([('EmpName', 'Rita'), ('Departement', 'Sales'), ('Gender', 'Female'), ('Salary', 10000)])"
      ]
     },
     "execution_count": 17,
     "metadata": {},
     "output_type": "execute_result"
    }
   ],
   "source": [
    "mydict.items()"
   ]
  },
  {
   "cell_type": "code",
   "execution_count": null,
   "id": "5ef73e7a",
   "metadata": {},
   "outputs": [],
   "source": []
  },
  {
   "cell_type": "markdown",
   "id": "022a2432",
   "metadata": {},
   "source": [
    "### Check if Key Exists"
   ]
  },
  {
   "cell_type": "code",
   "execution_count": 24,
   "id": "cc886aaf",
   "metadata": {},
   "outputs": [
    {
     "name": "stdout",
     "output_type": "stream",
     "text": [
      "Gender is an key in dictionary\n"
     ]
    }
   ],
   "source": [
    "if 'Gender' in mydict:\n",
    "    print(\"Gender is an key in dictionary\")"
   ]
  },
  {
   "cell_type": "markdown",
   "id": "32fbd481",
   "metadata": {},
   "source": [
    "### Removing Items or Clearing items\n",
    "- The pop() method removes the item with the specified key name.\n",
    "- The popitem() method removes the last inserted item\n",
    "- The del keyword removes the item with the specified key name\n",
    "- The clear() method empties the dictionary"
   ]
  },
  {
   "cell_type": "code",
   "execution_count": 28,
   "id": "5265b2f4",
   "metadata": {},
   "outputs": [
    {
     "data": {
      "text/plain": [
       "('Salary', 20000)"
      ]
     },
     "execution_count": 28,
     "metadata": {},
     "output_type": "execute_result"
    }
   ],
   "source": [
    "mydict.popitem()"
   ]
  },
  {
   "cell_type": "markdown",
   "id": "d40ec6ec",
   "metadata": {},
   "source": [
    "### Loop Through a Dictionary\n",
    "This is something which I used do frequently.\n",
    "- Use the values() method to return values of a dictionary or\n",
    "- Use the keys() method to return the keys of a dictionary\n",
    "- Loop through both keys and values, by using the items() method\n"
   ]
  },
  {
   "cell_type": "code",
   "execution_count": 30,
   "id": "3304f0dc",
   "metadata": {},
   "outputs": [
    {
     "name": "stdout",
     "output_type": "stream",
     "text": [
      "Rita\n",
      "Sales\n",
      "Female\n"
     ]
    }
   ],
   "source": [
    "for x in mydict.values():\n",
    "    print(x)"
   ]
  },
  {
   "cell_type": "code",
   "execution_count": 31,
   "id": "be7ae7d8",
   "metadata": {},
   "outputs": [
    {
     "name": "stdout",
     "output_type": "stream",
     "text": [
      "EmpName\n",
      "Departement\n",
      "Gender\n"
     ]
    }
   ],
   "source": [
    "for x in mydict.keys():\n",
    "    print(x)"
   ]
  },
  {
   "cell_type": "code",
   "execution_count": 36,
   "id": "73c363fe",
   "metadata": {},
   "outputs": [
    {
     "name": "stdout",
     "output_type": "stream",
     "text": [
      "key:EmpName value:Rita\n",
      "key:Departement value:Sales\n",
      "key:Gender value:Female\n"
     ]
    }
   ],
   "source": [
    "for x,y in mydict.items():\n",
    "    print(f'key:{x} value:{y}')"
   ]
  },
  {
   "cell_type": "markdown",
   "id": "1417c5c5",
   "metadata": {},
   "source": [
    "### Copy a Dictionary"
   ]
  },
  {
   "cell_type": "code",
   "execution_count": 37,
   "id": "89a2b6d9",
   "metadata": {},
   "outputs": [
    {
     "name": "stdout",
     "output_type": "stream",
     "text": [
      "{'EmpName': 'Rita', 'Departement': 'Sales', 'Gender': 'Female'}\n"
     ]
    }
   ],
   "source": [
    "copymydict=mydict.copy()\n",
    "print(copymydict)"
   ]
  },
  {
   "cell_type": "markdown",
   "id": "75730a98",
   "metadata": {},
   "source": [
    "### Nested Dictionaries\n",
    "This is used very frequently "
   ]
  },
  {
   "cell_type": "code",
   "execution_count": 40,
   "id": "8fd60e73",
   "metadata": {},
   "outputs": [
    {
     "name": "stdout",
     "output_type": "stream",
     "text": [
      "{'Employee1': {'name': 'Emil', 'Department': 'Sales'}, 'Employee2': {'name': 'Tobias', 'Department': 'IT'}, 'Employee3': {'name': 'Linus', 'Department': 'HR'}}\n"
     ]
    }
   ],
   "source": [
    "myemployees = {\n",
    "  \"Employee1\" : {\n",
    "    \"name\" : \"Emil\",\n",
    "    \"Department\" : \"Sales\"\n",
    "  },\n",
    "  \"Employee2\" : {\n",
    "    \"name\" : \"Tobias\",\n",
    "    \"Department\" : 'IT'\n",
    "  },\n",
    "  \"Employee3\" : {\n",
    "    \"name\" : \"Linus\",\n",
    "    \"Department\" : \"HR\"\n",
    "  }\n",
    "}\n",
    "print(myemployees)"
   ]
  },
  {
   "cell_type": "markdown",
   "id": "0f3bcfe7",
   "metadata": {},
   "source": [
    "## Merge Two Dictionaries"
   ]
  },
  {
   "cell_type": "code",
   "execution_count": 47,
   "id": "b7216b83",
   "metadata": {},
   "outputs": [
    {
     "name": "stdout",
     "output_type": "stream",
     "text": [
      "{'a': 1, 'b': 2, 'x': 3, 'y': 4}\n"
     ]
    }
   ],
   "source": [
    "dict1 = {'a': 1, 'b': 2}\n",
    "dict2 = {'x': 3, 'y': 4}\n",
    "\n",
    "dict3 = {**dict1, **dict2}\n",
    "print(dict3)"
   ]
  },
  {
   "cell_type": "markdown",
   "id": "25a2009e",
   "metadata": {},
   "source": [
    "## Dictionary Comprehensions"
   ]
  },
  {
   "cell_type": "code",
   "execution_count": 46,
   "id": "4028c981",
   "metadata": {},
   "outputs": [
    {
     "name": "stdout",
     "output_type": "stream",
     "text": [
      "{1: 1, 2: 4, 3: 9, 4: 16, 5: 25, 6: 36, 7: 49, 8: 64, 9: 81, 10: 100}\n"
     ]
    }
   ],
   "source": [
    "dictsquare = {i:i**2 for i in range(1,11)}\n",
    "print(dictsquare)"
   ]
  },
  {
   "cell_type": "code",
   "execution_count": 50,
   "id": "65fda323",
   "metadata": {},
   "outputs": [
    {
     "name": "stdout",
     "output_type": "stream",
     "text": [
      "{'b': 2, 'x': 3, 'y': 4}\n"
     ]
    }
   ],
   "source": [
    "dict4 = {key:value for (key, value) in dict3.items() if value>=2}\n",
    "print(dict4)"
   ]
  }
 ],
 "metadata": {
  "kernelspec": {
   "display_name": "Python 3",
   "language": "python",
   "name": "python3"
  },
  "language_info": {
   "codemirror_mode": {
    "name": "ipython",
    "version": 3
   },
   "file_extension": ".py",
   "mimetype": "text/x-python",
   "name": "python",
   "nbconvert_exporter": "python",
   "pygments_lexer": "ipython3",
   "version": "3.8.8"
  }
 },
 "nbformat": 4,
 "nbformat_minor": 5
}
